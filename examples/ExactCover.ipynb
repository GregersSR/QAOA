{
 "cells": [
  {
   "cell_type": "code",
   "execution_count": 1,
   "metadata": {},
   "outputs": [],
   "source": [
    "from qaoa import problems, mixers, QAOA\n",
    "import numpy as np"
   ]
  },
  {
   "cell_type": "code",
   "execution_count": 2,
   "metadata": {},
   "outputs": [],
   "source": [
    "FR = np.array([\n",
    "    [1, 0, 1, 0],\n",
    "    [1, 0, 0, 1],\n",
    "    [0, 1, 0, 0]\n",
    "])\n",
    "\n",
    "CR = np.array([0.5, 0.1, 0.1, 0.1])\n"
   ]
  },
  {
   "cell_type": "code",
   "execution_count": 3,
   "metadata": {},
   "outputs": [],
   "source": [
    "params = {}\n",
    "params['FR'] = FR\n",
    "params['CR'] = CR\n",
    "params['instances'] = 4\n",
    "params['usebarrier'] = True\n"
   ]
  },
  {
   "cell_type": "code",
   "execution_count": 4,
   "metadata": {},
   "outputs": [
    {
     "ename": "AttributeError",
     "evalue": "'Unconstrained' object has no attribute 'N_qubits'",
     "output_type": "error",
     "traceback": [
      "\u001b[1;31m---------------------------------------------------------------------------\u001b[0m",
      "\u001b[1;31mAttributeError\u001b[0m                            Traceback (most recent call last)",
      "Cell \u001b[1;32mIn[4], line 7\u001b[0m\n\u001b[0;32m      1\u001b[0m qaoaec \u001b[39m=\u001b[39m QAOA(\n\u001b[0;32m      2\u001b[0m     problem\u001b[39m=\u001b[39mproblems\u001b[39m.\u001b[39mExactCover,\n\u001b[0;32m      3\u001b[0m     mixer\u001b[39m=\u001b[39mmixers\u001b[39m.\u001b[39mUnconstrained,\n\u001b[0;32m      4\u001b[0m     params\u001b[39m=\u001b[39mparams\n\u001b[0;32m      5\u001b[0m )\n\u001b[1;32m----> 7\u001b[0m qaoaec\u001b[39m.\u001b[39;49mcreateParameterizedCircuit(\u001b[39m1\u001b[39;49m)\n",
      "File \u001b[1;32m~\\sintef\\repo\\QAOA\\qaoa\\qaoa.py:57\u001b[0m, in \u001b[0;36mQAOA.createParameterizedCircuit\u001b[1;34m(self, depth)\u001b[0m\n\u001b[0;32m     54\u001b[0m     \u001b[39mreturn\u001b[39;00m\n\u001b[0;32m     56\u001b[0m \u001b[39mself\u001b[39m\u001b[39m.\u001b[39mproblem\u001b[39m.\u001b[39mcreate_phase()\n\u001b[1;32m---> 57\u001b[0m \u001b[39mself\u001b[39;49m\u001b[39m.\u001b[39;49mmixer\u001b[39m.\u001b[39;49mcreate_mixer()\n\u001b[0;32m     59\u001b[0m q \u001b[39m=\u001b[39m QuantumRegister(\u001b[39mself\u001b[39m\u001b[39m.\u001b[39mproblem\u001b[39m.\u001b[39mN_qubits)\n\u001b[0;32m     60\u001b[0m c \u001b[39m=\u001b[39m ClassicalRegister(\u001b[39mself\u001b[39m\u001b[39m.\u001b[39mproblem\u001b[39m.\u001b[39mN_qubits)\n",
      "File \u001b[1;32m~\\sintef\\repo\\QAOA\\qaoa\\mixers\\Basemixer.py:79\u001b[0m, in \u001b[0;36mUnconstrained.create_mixer\u001b[1;34m(self)\u001b[0m\n\u001b[0;32m     78\u001b[0m \u001b[39mdef\u001b[39;00m \u001b[39mcreate_mixer\u001b[39m(\u001b[39mself\u001b[39m):\n\u001b[1;32m---> 79\u001b[0m     q \u001b[39m=\u001b[39m QuantumRegister(\u001b[39mself\u001b[39;49m\u001b[39m.\u001b[39;49mN_qubits)\n\u001b[0;32m     80\u001b[0m     mixer_param \u001b[39m=\u001b[39m Parameter(\u001b[39m\"\u001b[39m\u001b[39mx_beta\u001b[39m\u001b[39m\"\u001b[39m)\n\u001b[0;32m     82\u001b[0m     \u001b[39mself\u001b[39m\u001b[39m.\u001b[39mmixer_circuit \u001b[39m=\u001b[39m QuantumCircuit(q)\n",
      "\u001b[1;31mAttributeError\u001b[0m: 'Unconstrained' object has no attribute 'N_qubits'"
     ]
    }
   ],
   "source": [
    "qaoaec = QAOA(\n",
    "    problem=problems.ExactCover,\n",
    "    mixer=mixers.Unconstrained,\n",
    "    params=params\n",
    ")\n",
    "\n",
    "qaoaec.createParameterizedCircuit(1)"
   ]
  },
  {
   "cell_type": "code",
   "execution_count": null,
   "metadata": {},
   "outputs": [],
   "source": []
  }
 ],
 "metadata": {
  "kernelspec": {
   "display_name": ".env",
   "language": "python",
   "name": "python3"
  },
  "language_info": {
   "codemirror_mode": {
    "name": "ipython",
    "version": 3
   },
   "file_extension": ".py",
   "mimetype": "text/x-python",
   "name": "python",
   "nbconvert_exporter": "python",
   "pygments_lexer": "ipython3",
   "version": "3.11.5"
  },
  "orig_nbformat": 4
 },
 "nbformat": 4,
 "nbformat_minor": 2
}
