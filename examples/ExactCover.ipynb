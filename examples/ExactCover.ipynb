{
 "cells": [
  {
   "cell_type": "code",
   "execution_count": 2,
   "metadata": {},
   "outputs": [],
   "source": [
    "from qaoa import problems, mixers, QAOA\n",
    "import numpy as np"
   ]
  },
  {
   "cell_type": "code",
   "execution_count": 5,
   "metadata": {},
   "outputs": [],
   "source": [
    "FR = np.array([\n",
    "    [1, 0, 1, 0],\n",
    "    [1, 0, 0, 1],\n",
    "    [0, 1, 0, 0]\n",
    "])\n",
    "\n",
    "CR = np.array([0.5, 0.1, 0.1, 0.1])\n"
   ]
  },
  {
   "cell_type": "code",
   "execution_count": 6,
   "metadata": {},
   "outputs": [],
   "source": [
    "params = {}\n",
    "params['FR'] = FR\n",
    "params['CR'] = CR\n",
    "params['usebarrier'] = True"
   ]
  },
  {
   "cell_type": "code",
   "execution_count": 8,
   "metadata": {},
   "outputs": [
    {
     "ename": "AttributeError",
     "evalue": "'QAOA' object has no attribute 'createCircuit'",
     "output_type": "error",
     "traceback": [
      "\u001b[1;31m---------------------------------------------------------------------------\u001b[0m",
      "\u001b[1;31mAttributeError\u001b[0m                            Traceback (most recent call last)",
      "Cell \u001b[1;32mIn[8], line 7\u001b[0m\n\u001b[0;32m      1\u001b[0m qaoaec \u001b[39m=\u001b[39m QAOA(\n\u001b[0;32m      2\u001b[0m     problem\u001b[39m=\u001b[39mproblems\u001b[39m.\u001b[39mExactCover,\n\u001b[0;32m      3\u001b[0m     mixer\u001b[39m=\u001b[39mmixers\u001b[39m.\u001b[39mUnconstrained,\n\u001b[0;32m      4\u001b[0m     params\u001b[39m=\u001b[39mparams\n\u001b[0;32m      5\u001b[0m )\n\u001b[1;32m----> 7\u001b[0m qaoaec\u001b[39m.\u001b[39;49mcreateCircuit(np\u001b[39m.\u001b[39marray((np\u001b[39m.\u001b[39mpi, \u001b[39m2\u001b[39m\u001b[39m*\u001b[39mnp\u001b[39m.\u001b[39mpi)),\u001b[39m1\u001b[39m)\u001b[39m.\u001b[39mdraw(\u001b[39m'\u001b[39m\u001b[39mmpl\u001b[39m\u001b[39m'\u001b[39m)\n",
      "\u001b[1;31mAttributeError\u001b[0m: 'QAOA' object has no attribute 'createCircuit'"
     ]
    }
   ],
   "source": [
    "qaoaec = QAOA(\n",
    "    problem=problems.ExactCover,\n",
    "    mixer=mixers.Unconstrained,\n",
    "    params=params\n",
    ")\n",
    "\n",
    "qaoaec.createCircuit(np.array((np.pi, 2*np.pi)),1).draw('mpl')"
   ]
  },
  {
   "cell_type": "code",
   "execution_count": null,
   "metadata": {},
   "outputs": [],
   "source": []
  }
 ],
 "metadata": {
  "kernelspec": {
   "display_name": ".env",
   "language": "python",
   "name": "python3"
  },
  "language_info": {
   "codemirror_mode": {
    "name": "ipython",
    "version": 3
   },
   "file_extension": ".py",
   "mimetype": "text/x-python",
   "name": "python",
   "nbconvert_exporter": "python",
   "pygments_lexer": "ipython3",
   "version": "3.11.5"
  },
  "orig_nbformat": 4
 },
 "nbformat": 4,
 "nbformat_minor": 2
}
