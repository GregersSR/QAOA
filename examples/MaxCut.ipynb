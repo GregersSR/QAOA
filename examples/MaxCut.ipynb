{
 "cells": [
  {
   "cell_type": "code",
   "execution_count": 1,
   "metadata": {},
   "outputs": [],
   "source": [
    "from qaoa import QAOA, problems, mixers"
   ]
  },
  {
   "cell_type": "code",
   "execution_count": 2,
   "metadata": {},
   "outputs": [],
   "source": [
    "from qiskit import *\n",
    "import numpy as np\n",
    "import networkx as nx\n",
    "\n",
    "import matplotlib.pyplot as pl\n",
    "from mpl_toolkits.axes_grid1 import make_axes_locatable\n",
    "from qiskit.visualization import *"
   ]
  },
  {
   "cell_type": "code",
   "execution_count": 3,
   "metadata": {},
   "outputs": [
    {
     "data": {
      "image/png": "[encoded data removed]",
      "text/plain": [
       "<Figure size 640x480 with 1 Axes>"
      ]
     },
     "metadata": {},
     "output_type": "display_data"
    }
   ],
   "source": [
    "V = np.arange(0,5,1)\n",
    "E = [(0,1,1.0),(0,2,1.0),(1,2,1.0),(3,2,1.0),(3,4,1.0),(4,2,1.0)] \n",
    "\n",
    "G = nx.Graph()\n",
    "G.add_nodes_from(V)\n",
    "G.add_weighted_edges_from(E)\n",
    "\n",
    "pos = nx.spring_layout(G)\n",
    "nx.draw_networkx(G,pos=pos)\n",
    "k_cuts=2"
   ]
  },
  {
   "cell_type": "code",
   "execution_count": 5,
   "metadata": {},
   "outputs": [
    {
     "data": {
      "text/html": [
       "<pre style=\"word-wrap: normal;white-space: pre;background: #fff0;line-height: 1.1;font-family: &quot;Courier New&quot;,Courier,monospace\">      ┌───┐                                                          »\n",
       "q5_0: ┤ H ├──■───────────────────────■────■───────────────────────■──»\n",
       "      ├───┤┌─┴─┐┌─────────────────┐┌─┴─┐  │                       │  »\n",
       "q5_1: ┤ H ├┤ X ├┤ Rz(1.0*gamma_0) ├┤ X ├──┼───────────────────────┼──»\n",
       "      ├───┤└───┘└─────────────────┘└───┘┌─┴─┐┌─────────────────┐┌─┴─┐»\n",
       "q5_2: ┤ H ├─────────────────────────────┤ X ├┤ Rz(1.0*gamma_0) ├┤ X ├»\n",
       "      ├───┤                             └───┘└─────────────────┘└───┘»\n",
       "q5_3: ┤ H ├──────────────────────────────────────────────────────────»\n",
       "      ├───┤                                                          »\n",
       "q5_4: ┤ H ├──────────────────────────────────────────────────────────»\n",
       "      └───┘                                                          »\n",
       "c1: 5/═══════════════════════════════════════════════════════════════»\n",
       "                                                                     »\n",
       "«      ┌───────────────┐                                         »\n",
       "«q5_0: ┤ Rx(-2*beta_0) ├─────────────────────────────────────────»\n",
       "«      └───────────────┘                        ┌───────────────┐»\n",
       "«q5_1: ────────■─────────────────────────────■──┤ Rx(-2*beta_0) ├»\n",
       "«            ┌─┴─┐      ┌─────────────────┐┌─┴─┐└───────────────┘»\n",
       "«q5_2: ──────┤ X ├──────┤ Rz(1.0*gamma_0) ├┤ X ├────────■────────»\n",
       "«            └───┘      └─────────────────┘└───┘      ┌─┴─┐      »\n",
       "«q5_3: ───────────────────────────────────────────────┤ X ├──────»\n",
       "«                                                     └───┘      »\n",
       "«q5_4: ──────────────────────────────────────────────────────────»\n",
       "«                                                                »\n",
       "«c1: 5/══════════════════════════════════════════════════════════»\n",
       "«                                                                »\n",
       "«                                                                            »\n",
       "«q5_0: ──────────────────────────────────────────────────────────────────────»\n",
       "«                                                                            »\n",
       "«q5_1: ──────────────────────────────────────────────────────────────────────»\n",
       "«                                                           ┌───────────────┐»\n",
       "«q5_2: ─────────────────────■────■───────────────────────■──┤ Rx(-2*beta_0) ├»\n",
       "«      ┌─────────────────┐┌─┴─┐  │                       │  └───────────────┘»\n",
       "«q5_3: ┤ Rz(1.0*gamma_0) ├┤ X ├──┼───────────────────────┼──────────■────────»\n",
       "«      └─────────────────┘└───┘┌─┴─┐┌─────────────────┐┌─┴─┐      ┌─┴─┐      »\n",
       "«q5_4: ────────────────────────┤ X ├┤ Rz(1.0*gamma_0) ├┤ X ├──────┤ X ├──────»\n",
       "«                              └───┘└─────────────────┘└───┘      └───┘      »\n",
       "«c1: 5/══════════════════════════════════════════════════════════════════════»\n",
       "«                                                                            »\n",
       "«                                                ░ ┌─┐            \n",
       "«q5_0: ──────────────────────────────────────────░─┤M├────────────\n",
       "«                                                ░ └╥┘┌─┐         \n",
       "«q5_1: ──────────────────────────────────────────░──╫─┤M├─────────\n",
       "«                                                ░  ║ └╥┘┌─┐      \n",
       "«q5_2: ──────────────────────────────────────────░──╫──╫─┤M├──────\n",
       "«                              ┌───────────────┐ ░  ║  ║ └╥┘┌─┐   \n",
       "«q5_3: ─────────────────────■──┤ Rx(-2*beta_0) ├─░──╫──╫──╫─┤M├───\n",
       "«      ┌─────────────────┐┌─┴─┐├───────────────┤ ░  ║  ║  ║ └╥┘┌─┐\n",
       "«q5_4: ┤ Rz(1.0*gamma_0) ├┤ X ├┤ Rx(-2*beta_0) ├─░──╫──╫──╫──╫─┤M├\n",
       "«      └─────────────────┘└───┘└───────────────┘ ░  ║  ║  ║  ║ └╥┘\n",
       "«c1: 5/═════════════════════════════════════════════╩══╩══╩══╩══╩═\n",
       "«                                                   0  1  2  3  4 </pre>"
      ],
      "text/plain": [
       "      ┌───┐                                                          »\n",
       "q5_0: ┤ H ├──■───────────────────────■────■───────────────────────■──»\n",
       "      ├───┤┌─┴─┐┌─────────────────┐┌─┴─┐  │                       │  »\n",
       "q5_1: ┤ H ├┤ X ├┤ Rz(1.0*gamma_0) ├┤ X ├──┼───────────────────────┼──»\n",
       "      ├───┤└───┘└─────────────────┘└───┘┌─┴─┐┌─────────────────┐┌─┴─┐»\n",
       "q5_2: ┤ H ├─────────────────────────────┤ X ├┤ Rz(1.0*gamma_0) ├┤ X ├»\n",
       "      ├───┤                             └───┘└─────────────────┘└───┘»\n",
       "q5_3: ┤ H ├──────────────────────────────────────────────────────────»\n",
       "      ├───┤                                                          »\n",
       "q5_4: ┤ H ├──────────────────────────────────────────────────────────»\n",
       "      └───┘                                                          »\n",
       "c1: 5/═══════════════════════════════════════════════════════════════»\n",
       "                                                                     »\n",
       "«      ┌───────────────┐                                         »\n",
       "«q5_0: ┤ Rx(-2*beta_0) ├─────────────────────────────────────────»\n",
       "«      └───────────────┘                        ┌───────────────┐»\n",
       "«q5_1: ────────■─────────────────────────────■──┤ Rx(-2*beta_0) ├»\n",
       "«            ┌─┴─┐      ┌─────────────────┐┌─┴─┐└───────────────┘»\n",
       "«q5_2: ──────┤ X ├──────┤ Rz(1.0*gamma_0) ├┤ X ├────────■────────»\n",
       "«            └───┘      └─────────────────┘└───┘      ┌─┴─┐      »\n",
       "«q5_3: ───────────────────────────────────────────────┤ X ├──────»\n",
       "«                                                     └───┘      »\n",
       "«q5_4: ──────────────────────────────────────────────────────────»\n",
       "«                                                                »\n",
       "«c1: 5/══════════════════════════════════════════════════════════»\n",
       "«                                                                »\n",
       "«                                                                            »\n",
       "«q5_0: ──────────────────────────────────────────────────────────────────────»\n",
       "«                                                                            »\n",
       "«q5_1: ──────────────────────────────────────────────────────────────────────»\n",
       "«                                                           ┌───────────────┐»\n",
       "«q5_2: ─────────────────────■────■───────────────────────■──┤ Rx(-2*beta_0) ├»\n",
       "«      ┌─────────────────┐┌─┴─┐  │                       │  └───────────────┘»\n",
       "«q5_3: ┤ Rz(1.0*gamma_0) ├┤ X ├──┼───────────────────────┼──────────■────────»\n",
       "«      └─────────────────┘└───┘┌─┴─┐┌─────────────────┐┌─┴─┐      ┌─┴─┐      »\n",
       "«q5_4: ────────────────────────┤ X ├┤ Rz(1.0*gamma_0) ├┤ X ├──────┤ X ├──────»\n",
       "«                              └───┘└─────────────────┘└───┘      └───┘      »\n",
       "«c1: 5/══════════════════════════════════════════════════════════════════════»\n",
       "«                                                                            »\n",
       "«                                                ░ ┌─┐            \n",
       "«q5_0: ──────────────────────────────────────────░─┤M├────────────\n",
       "«                                                ░ └╥┘┌─┐         \n",
       "«q5_1: ──────────────────────────────────────────░──╫─┤M├─────────\n",
       "«                                                ░  ║ └╥┘┌─┐      \n",
       "«q5_2: ──────────────────────────────────────────░──╫──╫─┤M├──────\n",
       "«                              ┌───────────────┐ ░  ║  ║ └╥┘┌─┐   \n",
       "«q5_3: ─────────────────────■──┤ Rx(-2*beta_0) ├─░──╫──╫──╫─┤M├───\n",
       "«      ┌─────────────────┐┌─┴─┐├───────────────┤ ░  ║  ║  ║ └╥┘┌─┐\n",
       "«q5_4: ┤ Rz(1.0*gamma_0) ├┤ X ├┤ Rx(-2*beta_0) ├─░──╫──╫──╫──╫─┤M├\n",
       "«      └─────────────────┘└───┘└───────────────┘ ░  ║  ║  ║  ║ └╥┘\n",
       "«c1: 5/═════════════════════════════════════════════╩══╩══╩══╩══╩═\n",
       "«                                                   0  1  2  3  4 "
      ]
     },
     "execution_count": 5,
     "metadata": {},
     "output_type": "execute_result"
    }
   ],
   "source": [
    "params = {\n",
    "    'G': G,\n",
    "    'shots': 2048\n",
    "}\n",
    "qaoamc = QAOA(\n",
    "    problem=problems.MaxCut,\n",
    "    mixer=mixers.Unconstrained,\n",
    "    params=params\n",
    ")\n",
    "qaoamc.createParameterizedCircuit(1)\n",
    "qaoamc.parameterized_circuit.draw()"
   ]
  },
  {
   "cell_type": "code",
   "execution_count": null,
   "metadata": {},
   "outputs": [],
   "source": [
    "qaoamc.sample_cost_landscape(\n",
    "    angles={\n",
    "        'gamma':[0, np.pi/2, 10],\n",
    "        'beta': [0, np.pi/2, 10]\n",
    "    }\n",
    ")"
   ]
  }
 ],
 "metadata": {
  "kernelspec": {
   "display_name": ".env",
   "language": "python",
   "name": "python3"
  },
  "language_info": {
   "codemirror_mode": {
    "name": "ipython",
    "version": 3
   },
   "file_extension": ".py",
   "mimetype": "text/x-python",
   "name": "python",
   "nbconvert_exporter": "python",
   "pygments_lexer": "ipython3",
   "version": "3.11.5"
  },
  "orig_nbformat": 4
 },
 "nbformat": 4,
 "nbformat_minor": 2
}
